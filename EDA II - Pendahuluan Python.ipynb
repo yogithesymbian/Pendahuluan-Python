{
 "cells": [
  {
   "cell_type": "markdown",
   "metadata": {
    "slideshow": {
     "slide_type": "slide"
    }
   },
   "source": [
    "<center><img alt=\"\" src=\"images/0_Cover.jpg\"/></center> \n",
    "\n",
    "## <center><font color=\"blue\">II. Pendahuluan Bahasa Pemrograman Python</font></center>\n",
    "<b><center>(C) Taufik Sutanto - 2019</center>\n",
    "<center>tau-data Indonesia ~ https://tau-data.id</center>"
   ]
  },
  {
   "cell_type": "markdown",
   "metadata": {
    "slideshow": {
     "slide_type": "slide"
    }
   },
   "source": [
    "# <font color=\"blue\">Outline Module II</font>\n",
    "\n",
    "* Introduction to Python, Distributions, and editors.\n",
    "* Syntax Format: (indenting, multiline, import, deklarasi/inisialisasi)\n",
    "* Code descriptor & comments\n",
    "* Struktur Data Sederhana: integer, float, bytes, boolean\n",
    "* Struktur data Array: list, tuple, dictionary, Set\n",
    "* Slicing in Python\n",
    "* (Nested &ndash; hierarchical) if Logic\n",
    "* Looping For (&amp; list comprehension) + tqdm\n",
    "* Looping while\n",
    "* Python exception\n",
    "\n",
    "# <font color=\"blue\">http://bit.ly/Pendahuluan_Python</font>"
   ]
  },
  {
   "cell_type": "markdown",
   "metadata": {
    "slideshow": {
     "slide_type": "slide"
    }
   },
   "source": [
    "# <center><font color=\"blue\"> Why Python (Interpreter and-or compiler)\n",
    "\n",
    "* Free\n",
    "* Community support\n",
    "* Growing in needs & popularity\n",
    "* Multi Platform (tidak bergantung operating system)\n",
    "* “Fast” http://s.id/4lP \n",
    "* Rich libraries/Modules (termasuk Matematika, Statistika, Data Science/Machine Learning, Big Data, etc)\n",
    "* Jauh lebih mudah untuk dipelajari dibandingkan bahasa pemrograman lain.\n",
    "* Mendukung berbagai paradigma pemrograman: OOP, Functional Programming, Procedural Programming, etc.\n",
    "\n",
    "<center><img alt=\"\" src=\"images/1_why_python.jpg\" style=\"width: 800px; height: 516px;\" />"
   ]
  },
  {
   "cell_type": "markdown",
   "metadata": {
    "slideshow": {
     "slide_type": "slide"
    }
   },
   "source": [
    "# <center><font color=\"blue\"> Python Benchmarks\n",
    "\n",
    "<ul>\n",
    "\t<li><a href=\"https://tau-data.id/python-showdown/\" target=\"_blank\">https://tau-data.id/python-showdown/</a></li>\n",
    "\t<li><img alt=\"\" src=\"images/1_Python_VS_TheRest.png\" style=\"width: 750px; height: 387px;\" /></li>\n",
    "</ul>\n"
   ]
  },
  {
   "cell_type": "markdown",
   "metadata": {
    "slideshow": {
     "slide_type": "slide"
    }
   },
   "source": [
    "# <center><font color=\"blue\"> Filosofi &amp; Sejarah singkat Python\n",
    "    \n",
    "<p>Python diperkenalkan di sekitar tahun 1980 oleh&nbsp;<strong>Guido van Rossum</strong>.</p>\n",
    "\n",
    "<p>Python memiliki system yang &quot;mirip&quot; seperti Java (multi platform dan memiliki kernel), namun lebih mudah (tanpa deklarasi variabel seperti matlab). Python juga ringan sehingga supported di IoT/SBC devices.</p>\n",
    "\n",
    "<p>Tidak seperti <strong>R</strong> atau PHP yang merupakan specific programming language, Python adalah Full Programming Language yang dapat diaplikasikan pada:</p>\n",
    "\n",
    "<ol>\n",
    "\t<li>Desktop Application (GUI/Service)</li>\n",
    "\t<li>Web Programming (Jango/Flask)</li>\n",
    "\t<li>Analisa Data (scikit, Pandas, gensim, etc)</li>\n",
    "\t<li>Mobile App Programming (android, ios)</li>\n",
    "\t<li>Big Data distributed Programming</li>\n",
    "\t<li>GPU Programming in Deep Learning, etc</li>\n",
    "</ol>\n",
    "<center><img alt=\"\" src=\"images/PyLogo.png\" style=\"width: 200px; height: 200px;\" /></center>"
   ]
  },
  {
   "cell_type": "markdown",
   "metadata": {
    "slideshow": {
     "slide_type": "slide"
    }
   },
   "source": [
    "# <center><font color=\"blue\"> Beberapa kelemahan Python\n",
    "\n",
    "<ol>\n",
    "\t<li>Reference to Variabel (can be a good thing - older version)</li>\n",
    "\t<li>Dependensi dan Versi Module</li>\n",
    "\t<li>Dependensi Compiler C yang spesific dan terkadang tidak konsisten</li>\n",
    "\t<li>Message Parsing (process locked) - di pemrograman paralel</li>\n",
    "</ol>\n"
   ]
  },
  {
   "cell_type": "markdown",
   "metadata": {
    "slideshow": {
     "slide_type": "slide"
    }
   },
   "source": [
    "# <center><font color=\"blue\"> Python Distro\n",
    "* \"Vanilla\" Python: https://www.python.org/\n",
    "* Anaconda : https://www.anaconda.com/distribution/#download-section\n",
    "* WinPython: https://sourceforge.net/projects/winpython/files/ ==> **Recommended** for academics\n",
    "\n",
    "Catt: Kita akan menggunakan **Python 3.6**"
   ]
  },
  {
   "cell_type": "markdown",
   "metadata": {
    "slideshow": {
     "slide_type": "slide"
    }
   },
   "source": [
    "# <center><font color=\"blue\"> Python Editors\n",
    "\n",
    "* Jupyter Notebooks (lab): Cocok untuk presentasi dan learning\n",
    "* Spyder: Cocok untuk debugging/ heavy Development\n",
    "* PyCharm: alternatif IDE\n",
    "* NotedPad++ : Python hanya membutuhkan (sembarang) text + Terminal (misal command Prompt)"
   ]
  },
  {
   "cell_type": "markdown",
   "metadata": {
    "slideshow": {
     "slide_type": "slide"
    }
   },
   "source": [
    "<h1><font color=\"blue\">Sebelum dimulai; Resources yang sangat baik untuk belajar Python</font></h1>\n",
    "\n",
    "* Python basic: https://www.python-course.eu/python3_history_and_philosophy.php \n",
    "* Data Science Basic: https://scikit-learn.org/stable/tutorial/index.html\n",
    "* Advance Python: http://andy.terrel.us/blog/2012/09/27/starting-with-python/\n",
    "* Visualisasi di Python: https://matplotlib.org/gallery.html\n",
    "* Belajar Python secara interaktif: https://blog.withcode.uk/2018/08/python-for-beginners-free-interactive-self-marking-activities/"
   ]
  },
  {
   "cell_type": "markdown",
   "metadata": {
    "slideshow": {
     "slide_type": "slide"
    }
   },
   "source": [
    "# <center><font color=\"blue\"> Google Colab\n",
    "\n",
    "* Cocok untuk komputer yang memiliki spesifikasi yang relatif minim dan atau OS yang digunakan Macintosh. \n",
    "* Free with GPU dan TPU support (penting saat kelak digunakan dalam Data Science/Machine Learning)\n",
    "* Cara setup Google Colab:\n",
    "\n",
    "\n",
    "1. (optional) Install Google back-up&Sync: https://www.google.com/drive/download/backup-and-sync/\n",
    "2. Login dengan Username dan password Google (gmail/youtube) / biasanya email resmi kampus juga bisa\n",
    "3. Kunjungi https://colab.research.google.com\n",
    "4. Buat Python Notebook Baru"
   ]
  },
  {
   "cell_type": "markdown",
   "metadata": {},
   "source": [
    "<h1 id=\"Syntax-Dasar-Python\">Syntax Dasar Python</h1>\n",
    "<p>Menjalankan setiap Cell:</p>\n",
    "<ul>\n",
    "<li><span style=\"font-size: 14pt; color: #0009ff;\"><span style=\"font-size: 10pt; color: #000000;\">jika anda menggunakan PC/notebook:</span> <strong>ctrl + Enter<br /></strong></span></li>\n",
    "<li><span style=\"font-size: 14pt; color: #0009ff;\"><span style=\"font-size: 10pt;\"><span style=\"color: #000000;\">Jika anda menggunakan mobile phone/tablet: cukup dengan menekan simbol</span> <strong><span style=\"font-size: 14pt;\">\"tombol play\"</span></strong><span style=\"color: #000000;\"> disamping setiap cell code di Google Colab.</span></span><strong><br /></strong></span></li>\n",
    "<li><span style=\"font-size: 14pt; color: #0009ff;\"><span style=\"font-size: 10pt;\"><span style=\"color: #000000;\">Berkat Google Colaboratory, anda tetap bisa mengubah code python yang ada di setiap cell dan menjalankannya walaupun dari mobile phone anda.</span></span></span></li>\n",
    "<li>Python menggunakan \"indenting\" dan bukan tanda kurung () atau {}.\n",
    "<ul>\n",
    "<li>Oleh karena itu yakinkan tidak ada extra spasi di setiap \"awal\" baris</li>\n",
    "</ul>\n",
    "</li>\n",
    "<li>Python tidak memerlukan tanda \";\" di setiap akhir baris seperti kebanyakan bahasa pemrograman lain.</li>\n",
    "<li>Salah satu kelebihan utama Python adalah dukungan modul yang lengkap.\n",
    "<ul>\n",
    "<li>Modul adalah kumpulan \"fungsi\", sehingga pengguna Python bisa menghindari pemrograman yang rumit.</li>\n",
    "<li>Kebanyakan modul cuma-cuma dan dapat digunakan untuk komersil.</li>\n",
    "<li>Modul digunakan dengan perintah \"import\"</li>\n",
    "</ul>\n",
    "</li>\n",
    "</ul>"
   ]
  },
  {
   "cell_type": "markdown",
   "metadata": {},
   "source": [
    "# Loading Module Python\n",
    "<p><img alt=\"\" src=\"images/py_modules.jpg\" /></p>"
   ]
  },
  {
   "cell_type": "code",
   "execution_count": null,
   "metadata": {},
   "outputs": [],
   "source": [
    "# ini adalah baris komentar di Python, ditandai dengan simbol \"#\"\n",
    "# Biasanya digunakan untuk memberi keterangan agar instruksi Python mudah untuk dipahami\n",
    "\n",
    "# Cell ini berisi instruksi import beberapa module\n",
    "\n",
    "import pandas as pd # Modul \"Pandas\" populer digunakan untuk import Data, visualisasi, dan PreProcessing"
   ]
  },
  {
   "cell_type": "markdown",
   "metadata": {},
   "source": [
    "# Loading Data"
   ]
  },
  {
   "cell_type": "code",
   "execution_count": null,
   "metadata": {},
   "outputs": [],
   "source": [
    "# Bila Menggunakan Google Colab:\n",
    "# ini contoh upload dan load data\n",
    "# Upload juga bisa dilakukan di Google colab secara manual dengan mengakses menu Panel sebelah kiri.\n",
    "\n",
    "!wget https://tau-data.id/d/hr_data.csv # Anda bisa unduh data ini dengan menggunakan URL ini\n",
    "df = pd.read_csv('hr_data.csv')\n",
    "\n",
    "# Nama DATA kita setelah di import pada contoh ini adalah \"df\"\n",
    "df.head() # perintah ini digunakan untuk melihat beberapa data pertama \"df\""
   ]
  },
  {
   "cell_type": "markdown",
   "metadata": {
    "slideshow": {
     "slide_type": "slide"
    }
   },
   "source": [
    "# Syntax Python (Mohon untuk di coba di jupyter dan-atau Spyder)\n",
    "\n",
    "* indenting tanpa tanda \"{}\"\n",
    "* akhir code tanpa tanda \";\", tapi bisa juga iya"
   ]
  },
  {
   "cell_type": "code",
   "execution_count": null,
   "metadata": {
    "slideshow": {
     "slide_type": "slide"
    }
   },
   "outputs": [],
   "source": [
    "# Python tidak membutuhkan tanda semi colon \";\" di akhir setiap baris seperti R, Java, atau C\n",
    "n = 5\n",
    "b = 3\n",
    "print(b, n)"
   ]
  },
  {
   "cell_type": "code",
   "execution_count": null,
   "metadata": {},
   "outputs": [],
   "source": [
    "# tapi semi-colon bisa juga digunakan di Python untuk mengakhiri \"satu instruksi\"\n",
    "n, b = 3, 5\n",
    "\n",
    "print(b,n)"
   ]
  },
  {
   "cell_type": "code",
   "execution_count": null,
   "metadata": {},
   "outputs": [],
   "source": [
    "a = 3\n",
    "b = 7"
   ]
  },
  {
   "cell_type": "code",
   "execution_count": null,
   "metadata": {},
   "outputs": [],
   "source": [
    "a = 3\n",
    "b = 7\n",
    "c=a\n",
    "a=b\n",
    "b=c\n",
    "print(a,b)"
   ]
  },
  {
   "cell_type": "code",
   "execution_count": null,
   "metadata": {},
   "outputs": [],
   "source": [
    "a, b = 3, 7\n",
    "b, a = a, b\n",
    "print(a,b)"
   ]
  },
  {
   "cell_type": "code",
   "execution_count": null,
   "metadata": {
    "slideshow": {
     "slide_type": "slide"
    }
   },
   "outputs": [],
   "source": [
    "# Python menggunakan \"indenting\" dan bukan tanda kurung seperti banyak bahasa pemrograman lain\n",
    "x = 4\n",
    "if x>0 and x<8:\n",
    "    print('ini menggunakan tab')\n",
    "    print('ini menggunakan spasi x4') \n",
    "print('teks ini sudah diluar \"IF\"')\n",
    "# inden dinyatakan dengan \"tab\" atau \"spasi 4x\""
   ]
  },
  {
   "cell_type": "code",
   "execution_count": null,
   "metadata": {},
   "outputs": [],
   "source": [
    "A = [2, 3, 4]\n",
    "3 not in A"
   ]
  },
  {
   "cell_type": "code",
   "execution_count": null,
   "metadata": {},
   "outputs": [],
   "source": [
    "# Teks di python bisa menggunakan ' atau \"\n",
    "\n",
    "print('hi \"halo\" ')\n",
    "print(\"hi \\\"halo\\\" \")\n",
    "\n",
    "# tanda \"\\\" digunakan untuk merubah character khusus di python menjadi character biasa\n",
    "# Sangat berguna bagi Data Scientist saat menangani data dari database"
   ]
  },
  {
   "cell_type": "markdown",
   "metadata": {},
   "source": [
    "# Struktur data dasar di Python¶"
   ]
  },
  {
   "cell_type": "code",
   "execution_count": null,
   "metadata": {
    "slideshow": {
     "slide_type": "slide"
    }
   },
   "outputs": [],
   "source": [
    "# Di Python variabel tidak perlu deklarasi (seperti matlab)\n",
    "a = 2\n",
    "b = 3.4\n",
    "c = 'teks'\n",
    "d = True"
   ]
  },
  {
   "cell_type": "code",
   "execution_count": null,
   "metadata": {
    "slideshow": {
     "slide_type": "slide"
    }
   },
   "outputs": [],
   "source": [
    "# Untuk mengetahui tipe suatu variabel kita bisa menggunakan perintah \"type\"\n",
    "type(d)"
   ]
  },
  {
   "cell_type": "code",
   "execution_count": null,
   "metadata": {},
   "outputs": [],
   "source": [
    "# System floating point di Python\n",
    "import sys\n",
    "\n",
    "sys.float_info"
   ]
  },
  {
   "cell_type": "code",
   "execution_count": null,
   "metadata": {},
   "outputs": [],
   "source": [
    "# Testing\n",
    "x = 1.7976931348623157e+308\n",
    "print(x*2) # OverFlow\n",
    "e = 2.120446049250313e-17 # underflow < e < Epsilon\n",
    "print(1+e)"
   ]
  },
  {
   "cell_type": "markdown",
   "metadata": {},
   "source": [
    "# \"Array\""
   ]
  },
  {
   "cell_type": "code",
   "execution_count": null,
   "metadata": {},
   "outputs": [],
   "source": [
    "# \"Array\" dasar di Python bisa berupa List, Tuple, Set atau Dictionary\n",
    "L = [1, 5, 7, 2] # List\n",
    "T = (1, 5, 7, 2) # Tuple, imutable = constant\n",
    "S = set([1, 5, 7, 2]) # Set (Himpunan), unordered, unique\n",
    "D = {0:1, 1:5, 2:7, 3:2, 'empat':4, 5:'lima'} # Dictionary\n",
    "# Apa beda semua jenis \"array\" diatas?"
   ]
  },
  {
   "cell_type": "code",
   "execution_count": null,
   "metadata": {},
   "outputs": [],
   "source": [
    "# Slicing List/Tuple\n",
    "S\n",
    "#L[3] # ini akses satu elemen (pertama)\n",
    "#L[:2] # akses 2 elemen pertama\n",
    "#L[-1] # satu elemen terakhir\n",
    "#L[-3:] # 3 elemen terakhir\n",
    "#L[1:3] # elemen ke 2 dan 3\n",
    "\n",
    "# Append, extend, del"
   ]
  },
  {
   "cell_type": "code",
   "execution_count": null,
   "metadata": {},
   "outputs": [],
   "source": [
    "S = set(['depok', 'bogor'])\n",
    "T = ('depok', 'semarang', 'bekasi', 'bogor','bogor','bogor','bogor','jogja')\n",
    "# filtering\n",
    "\n",
    "D = [kota for kota in T if kota in S]\n",
    "D"
   ]
  },
  {
   "cell_type": "markdown",
   "metadata": {
    "slideshow": {
     "slide_type": "slide"
    }
   },
   "source": [
    "# All entities in Python are all objects"
   ]
  },
  {
   "cell_type": "code",
   "execution_count": null,
   "metadata": {},
   "outputs": [],
   "source": [
    "# press \"tab\" after the dot\n",
    "A = [2,5,3]\n",
    "A.sort()\n",
    "A"
   ]
  },
  {
   "cell_type": "markdown",
   "metadata": {},
   "source": [
    "# List bukan \"Array\""
   ]
  },
  {
   "cell_type": "code",
   "execution_count": null,
   "metadata": {},
   "outputs": [],
   "source": [
    "def pungsi(x=3):\n",
    "    return x**2+7\n",
    "\n",
    "A = [2.3, 'd', True, 678, pungsi(x=7)]\n",
    "A"
   ]
  },
  {
   "cell_type": "markdown",
   "metadata": {},
   "source": [
    "# Hati-hati dengan \"Reference to Variable\" di Python"
   ]
  },
  {
   "cell_type": "code",
   "execution_count": null,
   "metadata": {},
   "outputs": [],
   "source": [
    "A = [2, 3, 4]\n",
    "B = A\n",
    "A[0] = 99\n",
    "print(A)"
   ]
  },
  {
   "cell_type": "code",
   "execution_count": null,
   "metadata": {},
   "outputs": [],
   "source": [
    "print(B)"
   ]
  },
  {
   "cell_type": "code",
   "execution_count": null,
   "metadata": {
    "slideshow": {
     "slide_type": "slide"
    }
   },
   "outputs": [],
   "source": [
    "A = [2, 3, 4]\n",
    "B = A.copy()\n",
    "A[0] = 99\n",
    "print(A, B)"
   ]
  },
  {
   "cell_type": "code",
   "execution_count": null,
   "metadata": {},
   "outputs": [],
   "source": [
    "# Modulo (sisa pembagian) di tulis dengan tanda \"%\"\n",
    "\n",
    "print(  8%3 )"
   ]
  },
  {
   "cell_type": "code",
   "execution_count": null,
   "metadata": {},
   "outputs": [],
   "source": [
    "# Exponen/pangkat di tulis dengan tanda \"**\"\n",
    "\n",
    "print(  2**3 )"
   ]
  },
  {
   "cell_type": "code",
   "execution_count": null,
   "metadata": {},
   "outputs": [],
   "source": [
    "# Boolean Statements in Python\n",
    "a = True \n",
    "b = False\n",
    "\n",
    "print('Negasi ditulis dengan \"not\" : ', not a)\n",
    "print('Tidak sama dengan ditulis dengan \"!\" : ', a!=b)\n",
    "print('\"AND\" ditulis dengan tanda \"&\" atau \"and\" :' , a & b, \" = \",  a and b)\n",
    "print('\"OR\" ditulis dengan tanda \"|\" atau \"or\" :' , a | b, \" = \",  a or b)"
   ]
  },
  {
   "cell_type": "markdown",
   "metadata": {},
   "source": [
    "<center><img alt=\"\" src=\"images/4_IF_Components_.png\" style=\"width: 800px; height: 424px;\" />"
   ]
  },
  {
   "cell_type": "markdown",
   "metadata": {},
   "source": [
    "<h1><font color=\"blue\">Sifat Percabangan:</font></h1>\n",
    "\n",
    "* \"Statement\" adalah variabel bernilai boolean (true/False) atau \n",
    "* \"Statement\" pernyataan bernilai boolean (misal: if x>3)\n",
    "* \"ELSE\" tidak memerlukan Statement\n",
    "* Baik ELSE IF maupun ELSE keduanya pilihan (opsional)/tidak wajib ada.\n",
    "* Jika salah satu Statement bernilai True dan tindakannya dilakukan, maka seluruh baris percabangan dibawahnya **tidak** dilakukan/eksekusi.\n",
    "* Jika percabangan tidak memiliki \"ELSE\" maka ada kemungkinan seluruh \"Actions\" tidak ada yang dilakukan.\n",
    "* Jika percabangan memiliki komponen \"ELSE\" salah satu \"Actions\" pasti dilakukan."
   ]
  },
  {
   "cell_type": "code",
   "execution_count": null,
   "metadata": {},
   "outputs": [],
   "source": [
    "# Contoh sederhana\n",
    "try:    \n",
    "    z = float(input('Masukkan sembarang angka x = ')) # input by default dikenali sebagai \"string/characters\", hence \"float\"\n",
    "    if z>0: \n",
    "        print('halo')\n",
    "    elif z==0:\n",
    "        print('x bukan positif dan bukan negatif')\n",
    "    elif z==-1:\n",
    "        print('hi')\n",
    "except:\n",
    "    print('maaf yg anda input bukan angka')"
   ]
  },
  {
   "cell_type": "markdown",
   "metadata": {},
   "source": [
    "# <font color=\"blue\"> Python Alternate Universe </font>\n",
    "\n",
    "Unfortunately it is not as easy in real life as it is in Python to differentiate between **true and false**: \n",
    "The following objects are evaluated by Python as **False**:\n",
    "\n",
    "- numerical zero values (0, 0.0, 0.0+0.0j),\n",
    "- the Boolean value False,\n",
    "- empty strings,\n",
    "- empty lists and empty tuples,\n",
    "- empty dictionaries.\n",
    "- special value \"None\".\n",
    "\n",
    "**All other values are considered to be True**"
   ]
  },
  {
   "cell_type": "code",
   "execution_count": null,
   "metadata": {},
   "outputs": [],
   "source": [
    "A = [2,3] # Silahkan dicoba ganti dengan sembarang nilai lain seperti keterangan di cell sebelumnya\n",
    "if A:\n",
    "    print('A dianggap True')\n",
    "else:\n",
    "    print('A dianggap False')"
   ]
  },
  {
   "cell_type": "markdown",
   "metadata": {},
   "source": [
    "## <font color=\"blue\"> Exceptions (Try-Except): One of the reason why Python is awesome!</font>\n",
    "\n",
    "* Secara umum sebuah program sebaiknya harus memiliki \"precaution\", just in case input yang tidak diinginkan masuk ke sistem dan mengakibatkan error.\n",
    "* Istilah formal untuk hal ini adalah \"Domain Constraint\".\n",
    "* Pada dasarnya hampir semua bahasa pemrograman (dan database) mampu melakukan domain constraint. Namun di Python dapat dilakukan dengan jauuuuhhh lebih sederhana (simple)"
   ]
  },
  {
   "cell_type": "code",
   "execution_count": null,
   "metadata": {},
   "outputs": [],
   "source": [
    "# Contoh TRY - Except\n",
    "try:\n",
    "    n = int(input(\"Please input any integer\"))\n",
    "except:\n",
    "    print('you did not insert an integer :( ')\n",
    "# Catt: "
   ]
  },
  {
   "cell_type": "code",
   "execution_count": null,
   "metadata": {},
   "outputs": [],
   "source": [
    "# Tanpa try-Except Program akan error dan terhenti\n",
    "# Coba input dengan sembarang \"huruf\" dan jalankan\n",
    "n = int(input(\"Please input any integer\"))"
   ]
  },
  {
   "cell_type": "markdown",
   "metadata": {},
   "source": [
    "<center><img alt=\"\" src=\"images/3_Looping_Components.png\" style=\"width: 800px; height: 424px;\" />"
   ]
  },
  {
   "cell_type": "markdown",
   "metadata": {},
   "source": [
    "# di Python sedikit berbeda (menggunakan fungsi \"range\")"
   ]
  },
  {
   "cell_type": "code",
   "execution_count": null,
   "metadata": {},
   "outputs": [],
   "source": [
    "L = list( range(3) )\n",
    "print(L)"
   ]
  },
  {
   "cell_type": "code",
   "execution_count": null,
   "metadata": {},
   "outputs": [],
   "source": [
    "for i in range(3):\n",
    "    print(i+1)"
   ]
  },
  {
   "cell_type": "markdown",
   "metadata": {},
   "source": [
    "# Range bisa dimulai dan incremented dari sembarang nilai\n",
    "\n",
    "## range(start, end, increment)"
   ]
  },
  {
   "cell_type": "code",
   "execution_count": null,
   "metadata": {},
   "outputs": [],
   "source": [
    "df"
   ]
  },
  {
   "cell_type": "code",
   "execution_count": null,
   "metadata": {},
   "outputs": [],
   "source": [
    "# contoh\n",
    "# Systematic sampling/filtering\n",
    "A = [1,2,3,4,5,6,7,8,9]\n",
    "for i in range(0, 9, 3):\n",
    "    print(A[i])"
   ]
  },
  {
   "cell_type": "code",
   "execution_count": null,
   "metadata": {},
   "outputs": [],
   "source": [
    "# Looping di python sangat fleksible (list iterable di Python)\n",
    "A = ['a', 345, 90.4, True]\n",
    "\n",
    "for elemenA in A:\n",
    "    print(elemenA)"
   ]
  },
  {
   "cell_type": "markdown",
   "metadata": {},
   "source": [
    "# List comprehension"
   ]
  },
  {
   "cell_type": "code",
   "execution_count": null,
   "metadata": {},
   "outputs": [],
   "source": [
    "A = [i**2 for i in range(10)]\n",
    "print(A)"
   ]
  },
  {
   "cell_type": "code",
   "execution_count": null,
   "metadata": {},
   "outputs": [],
   "source": [
    "# Bisa digabungkan dengan \"if\"\n",
    "A = [i for i in range(10) if i%2==0]\n",
    "print(A)"
   ]
  },
  {
   "cell_type": "markdown",
   "metadata": {},
   "source": [
    "<h1><font color=\"blue\">Skewness and Data Transformation </font></h1>\n",
    "\n",
    "* Sometimes we need to transform data, for example change it to it&#39;s square root forms to deal with skewness\n",
    "<center><img alt=\"\" src=\"images/3_data_transformation.png\" style=\"width: 769px; height: 404px;\" />"
   ]
  },
  {
   "cell_type": "code",
   "execution_count": null,
   "metadata": {},
   "outputs": [],
   "source": [
    "# Contoh transformasi data dengan list comprehension\n",
    "\n",
    "data = [99,89,80,50,25,12,11,10,9,8,7,6,5,4,3,2,1]\n",
    "[1/x for x in data]  # List comprehesion secara umum lebih cepat dan sederhana"
   ]
  },
  {
   "cell_type": "markdown",
   "metadata": {},
   "source": [
    "# <font color=\"blue\"> Vector unfolding : Flatten Data </font>\n",
    "\n",
    "* Pada beberapa permasalahan pengolahan data di Data Science atau Machine learning, terkadang kita memerlukan mekanisme unfolding vector.\n",
    "* Contoh: \n",
    " - A = [(1,2), (3,4), (5,3), (9,1), (4,5)]\n",
    " - Unfolded menjadi\n",
    " - A = [1, 2, 3, 4, 5, 3, 9, 1, 4, 5]"
   ]
  },
  {
   "cell_type": "code",
   "execution_count": null,
   "metadata": {},
   "outputs": [],
   "source": [
    "# Aplikasi di Python: unfolding vectors\n",
    "A = [(1,2), (3,4), (5,3), (9,1), (4,5)]\n",
    "B = [x for y in A for x in y] # Double list comprehension, kalau bingung bacanya dari FOR kanan ke FOR kiri\n",
    "B"
   ]
  },
  {
   "cell_type": "markdown",
   "metadata": {},
   "source": [
    "<h1><center><font color=\"blue\">Indefinite Loop - While </font></h1>\n",
    "\n",
    "<ol>\n",
    "\t<li>While loop digunakan saat kita hendak melakukan perulangan/iterasi, namun tidak mengetahui secara pasti jumlah perulangannya.</li>\n",
    "\t<li>Kondisi di perulangan = pencabangan IF, yaitu bernilai boolean</li>\n",
    "\t<li>Kondisi di While biasa disebut Stopper</li>\n",
    "\t<li>Stopper dapat diletakkan di awal atau akhir (Repeat-Until)</li>\n",
    "\t<li>Di dalam &quot;loop body&quot; wajib memuat suatu mekanisme yang mengakibatkan suatu saat Stopper bernilai True.</li>\n",
    "\t<li>Precautions sangat disarankan di While loop dengan memasukkan jumlah iterasi maksimum</li>\n",
    "</ol>\n",
    "\n",
    "<center><img alt=\"\" src=\"images/5_while_loop_Schema.png\" style=\"width: 280px; height: 225px;\" />"
   ]
  },
  {
   "cell_type": "code",
   "execution_count": null,
   "metadata": {},
   "outputs": [],
   "source": [
    "# Contoh di python\n",
    "gender = set(['pria', 'wanita'])\n",
    "sex = ''\n",
    "while sex not in gender:\n",
    "    sex = input('Apakah Jenis Kelamin anda? ')\n",
    "print('Terima Kasih')"
   ]
  },
  {
   "cell_type": "markdown",
   "metadata": {},
   "source": [
    "# Break (keluar dari loop for atau while)"
   ]
  },
  {
   "cell_type": "code",
   "execution_count": null,
   "metadata": {},
   "outputs": [],
   "source": [
    "for i in range(9999):\n",
    "    print(i)\n",
    "    if i > 2:\n",
    "        break"
   ]
  },
  {
   "cell_type": "markdown",
   "metadata": {},
   "source": [
    "# Modul Python\n",
    "\n",
    "* \"import\" (misal math/numpy)\n",
    "* import alias\n",
    "* Deklarasi\n",
    "* Deklarasi multiline (it's a matter of preference)"
   ]
  },
  {
   "cell_type": "code",
   "execution_count": null,
   "metadata": {},
   "outputs": [],
   "source": [
    "import numpy\n",
    "\n",
    "print(numpy.log10(100))"
   ]
  },
  {
   "cell_type": "code",
   "execution_count": null,
   "metadata": {},
   "outputs": [],
   "source": [
    "# Bisa menggunakan alias agar lebih singkat\n",
    "import numpy as np\n",
    "\n",
    "np.log10(100)"
   ]
  },
  {
   "cell_type": "code",
   "execution_count": null,
   "metadata": {},
   "outputs": [],
   "source": [
    "# bisa import parsial\n",
    "from numpy import cos \n",
    "from numpy import sin\n",
    "\n",
    "print(sin(3.14))\n",
    "print(cos(0.00))"
   ]
  },
  {
   "cell_type": "markdown",
   "metadata": {},
   "source": [
    "<h2 id=\"Instalasi-Modul\">Instalasi Modul</h2>\n",
    "\n",
    "<ol>\n",
    "\t<li>Command Line (terminal/command prompt)<br />\n",
    "\tcontoh:<strong> pip install namaModul</strong><br />\n",
    "\tjika modul sudah ada, maka automatis tidak menginstall ulang.</li>\n",
    "\t<li>Jika ingin mengupdate modul (hati-hati):<br />\n",
    "\t<strong>pip install namaModul --upgrade</strong></li>\n",
    "\t<li>Great resources modul Python yang telah di kompilasi:&nbsp;<a href=\"https://www.lfd.uci.edu/~gohlke/pythonlibs\">https://www.lfd.uci.edu/~gohlke/pythonlibs</a></li>\n",
    "</ol>\n"
   ]
  },
  {
   "cell_type": "markdown",
   "metadata": {},
   "source": [
    "# Array/Matrix yang sesungguhnya di Python¶"
   ]
  },
  {
   "cell_type": "code",
   "execution_count": null,
   "metadata": {},
   "outputs": [],
   "source": [
    "import numpy as np\n",
    "L = [1.2, 3, 67] # List\n",
    "A = np.array(L)\n",
    "print(L)\n",
    "print(A)"
   ]
  },
  {
   "cell_type": "code",
   "execution_count": null,
   "metadata": {},
   "outputs": [],
   "source": [
    "# Arrary di design untuk perhitungan\n",
    "print(A * 2 + 1) # Bisa dilakukan"
   ]
  },
  {
   "cell_type": "code",
   "execution_count": null,
   "metadata": {},
   "outputs": [],
   "source": [
    "# Error!!... List digunakan lebih ke penyimpanan data, bukan manipulasi numerik\n",
    "print(L * 2 + 1) # Error"
   ]
  },
  {
   "cell_type": "code",
   "execution_count": null,
   "metadata": {},
   "outputs": [],
   "source": [
    "# Operasi sederhana dapat dilakukan langsung pada Array\n",
    "A = np.array([[1, 0], [1, 1]])\n",
    "B = np.array([[0, 1], [2, 3]])\n",
    "print(A)\n",
    "print(B)\n",
    "print(A.mean())\n",
    "print(A.var())\n",
    "print(B.max())\n",
    "print(B.transpose())"
   ]
  },
  {
   "cell_type": "code",
   "execution_count": null,
   "metadata": {},
   "outputs": [],
   "source": [
    "# Hati-hati ini element wise multiplication\n",
    "print(A * B)"
   ]
  },
  {
   "cell_type": "code",
   "execution_count": null,
   "metadata": {},
   "outputs": [],
   "source": [
    "# ini perkalian Matrix yang sesungguhnya\n",
    "print(A.dot(B))"
   ]
  },
  {
   "cell_type": "code",
   "execution_count": null,
   "metadata": {},
   "outputs": [],
   "source": [
    "# Alternative (mulai Python 3.5)\n",
    "print(A @ B)"
   ]
  },
  {
   "cell_type": "markdown",
   "metadata": {},
   "source": [
    "# Matrix"
   ]
  },
  {
   "cell_type": "code",
   "execution_count": null,
   "metadata": {},
   "outputs": [],
   "source": [
    "# Operasi sederhana dapat dilakukan langsung pada Array\n",
    "A = np.matrix([[1, 0], [1, 1]])\n",
    "B = np.matrix([[0, 1], [2, 3]])\n",
    "print(A)\n",
    "print(B)\n",
    "print(A.mean())\n",
    "print(A.var())\n",
    "print(B.max())\n",
    "print(B.transpose())"
   ]
  },
  {
   "cell_type": "code",
   "execution_count": null,
   "metadata": {},
   "outputs": [],
   "source": [
    "# Hati-hati ... ini PointWise multiplication!!!...\n",
    "print(A * B)"
   ]
  },
  {
   "cell_type": "code",
   "execution_count": null,
   "metadata": {},
   "outputs": [],
   "source": [
    "# ini perkalian Matrix yang sesungguhnya\n",
    "print(A.dot(B))"
   ]
  },
  {
   "cell_type": "markdown",
   "metadata": {},
   "source": [
    "# Matrix VS Array\n",
    "\n",
    "* Multiplication (used to be)\n",
    "* Array multidimensional, Matrix 2 dimensional\n",
    "* In general ... Just use Array"
   ]
  },
  {
   "cell_type": "code",
   "execution_count": null,
   "metadata": {},
   "outputs": [],
   "source": []
  },
  {
   "cell_type": "markdown",
   "metadata": {},
   "source": [
    "# Latihan\n",
    "\n",
    "Buatlah sebuah program sederhana yang akan melakukan hal berikut:\n",
    "1. \"memaksa\" user untuk memasukkan bilangan bulat positif (sebut = **_N_**)\n",
    "2. mengeluarkan (output/print) semua \"faktor/pembagi\" **_N_**\n",
    "3. Petunjuk:\n",
    " - Gunakan kombinasi \"while\" dan \"try-except\" untuk memaksa user input data yang benar\n",
    " - i faktor dari N jika i%N ==0\n",
    " - Gunakan looping dengan menggunakan N (fungsi range)"
   ]
  },
  {
   "cell_type": "code",
   "execution_count": null,
   "metadata": {},
   "outputs": [],
   "source": [
    "# Jawaban Latihan disini\n",
    "\n"
   ]
  },
  {
   "cell_type": "markdown",
   "metadata": {
    "slideshow": {
     "slide_type": "slide"
    }
   },
   "source": [
    "# <center><font color=\"blue\"> End of Module II.\n",
    "\n",
    "<hr />\n",
    "<center><img alt=\"\" src=\"images/1_meme_A.jpg\" />"
   ]
  },
  {
   "cell_type": "code",
   "execution_count": null,
   "metadata": {},
   "outputs": [],
   "source": [
    "# Salah satu contoh jawaban Latihan (tidak unik/harus seperti ini)\n",
    "\n",
    "N = 0\n",
    "while N<=0:\n",
    "    try:\n",
    "        N = int(input('Masukkan sembarang bilangan bulat positif N = '))\n",
    "    except:\n",
    "        print('N bukan bilangan bulat positif, silahkan coba lagi')\n",
    "\n",
    "if N>0:\n",
    "    for i in range(1,N+1):\n",
    "        if N%i==0:\n",
    "            print(i)"
   ]
  }
 ],
 "metadata": {
  "celltoolbar": "Slideshow",
  "kernelspec": {
   "display_name": "Python 3",
   "language": "python",
   "name": "python3"
  },
  "language_info": {
   "codemirror_mode": {
    "name": "ipython",
    "version": 3
   },
   "file_extension": ".py",
   "mimetype": "text/x-python",
   "name": "python",
   "nbconvert_exporter": "python",
   "pygments_lexer": "ipython3",
   "version": "3.6.8"
  }
 },
 "nbformat": 4,
 "nbformat_minor": 2
}
